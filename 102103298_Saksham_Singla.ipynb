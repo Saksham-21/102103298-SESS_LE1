{
  "nbformat": 4,
  "nbformat_minor": 0,
  "metadata": {
    "colab": {
      "provenance": [],
      "authorship_tag": "ABX9TyOJTQMTriYYeksCITniFI3X",
      "include_colab_link": true
    },
    "kernelspec": {
      "name": "python3",
      "display_name": "Python 3"
    },
    "language_info": {
      "name": "python"
    }
  },
  "cells": [
    {
      "cell_type": "markdown",
      "metadata": {
        "id": "view-in-github",
        "colab_type": "text"
      },
      "source": [
        "<a href=\"https://colab.research.google.com/github/Saksham-21/102103298-SESS_LE1/blob/main/102103298_Saksham_Singla.ipynb\" target=\"_parent\"><img src=\"https://colab.research.google.com/assets/colab-badge.svg\" alt=\"Open In Colab\"/></a>"
      ]
    },
    {
      "cell_type": "markdown",
      "source": [
        "Name:- Saksham Singla \\\\\n",
        "Roll No:- 102103298 \\\\\n",
        "Email:- ssingla3_be21@thapar.edu \\\\\n",
        "Group:- 3CO11\n"
      ],
      "metadata": {
        "id": "odGiVInTZclc"
      }
    },
    {
      "cell_type": "code",
      "execution_count": null,
      "metadata": {
        "id": "SzBPtwAkVfs7"
      },
      "outputs": [],
      "source": []
    }
  ]
}